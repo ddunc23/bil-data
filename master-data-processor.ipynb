{
 "cells": [
  {
   "cell_type": "code",
   "execution_count": 121,
   "id": "7b077326-c69f-47c1-943a-02139119315b",
   "metadata": {
    "tags": []
   },
   "outputs": [],
   "source": [
    "import csv\n",
    "import re\n",
    "import json\n",
    "\n",
    "import geopandas as gpd\n",
    "\n",
    "import shapely\n",
    "\n",
    "from geojson import Point, Feature, FeatureCollection, dump, MultiPoint"
   ]
  },
  {
   "cell_type": "markdown",
   "id": "ed029a46-7ff8-4234-bd4c-7c0c8dc7ce5d",
   "metadata": {},
   "source": [
    "## Process the records into GeoJson"
   ]
  },
  {
   "cell_type": "code",
   "execution_count": 70,
   "id": "8c503732-f2a5-462c-8ec4-41bccb579241",
   "metadata": {
    "tags": []
   },
   "outputs": [],
   "source": [
    "records = []\n",
    "\n",
    "with open('DATA MASTER-dh-copy-v11-2024-09-02.csv', encoding='utf-8-sig') as file:\n",
    "    reader = csv.DictReader(file)\n",
    "    for row in reader:\n",
    "        records.append(row)\n",
    "    file.close()    "
   ]
  },
  {
   "cell_type": "code",
   "execution_count": 71,
   "id": "5b2d4b38-5aaf-4ef7-b96c-12e0525684b9",
   "metadata": {
    "tags": []
   },
   "outputs": [
    {
     "data": {
      "text/plain": [
       "['UUID',\n",
       " '\\ufeffTitle',\n",
       " 'Memory Mapper Title (keywords to identify the project) (should include the research content',\n",
       " 'Project Location - In London',\n",
       " 'Date',\n",
       " 'Link',\n",
       " 'Identification- DOI/URL/ISBN/Reference no.',\n",
       " 'Authors',\n",
       " 'London Authors',\n",
       " 'Other Author (National+International)',\n",
       " 'Department',\n",
       " 'Abstract',\n",
       " 'Partners',\n",
       " 'Partnership Location - In London',\n",
       " 'Partnership',\n",
       " 'Policy Sources////Citations ( from Overton)',\n",
       " 'Policy source subcategory',\n",
       " 'Partnership 1',\n",
       " 'Partnership 2',\n",
       " 'Partnership 3',\n",
       " 'Partnership 4',\n",
       " 'Filter 2 (Themes)',\n",
       " 'Funder 1',\n",
       " 'Funder 2',\n",
       " 'Funder 3',\n",
       " 'Source',\n",
       " 'Output type']"
      ]
     },
     "execution_count": 71,
     "metadata": {},
     "output_type": "execute_result"
    }
   ],
   "source": [
    "list(records[0].keys())"
   ]
  },
  {
   "cell_type": "code",
   "execution_count": 72,
   "id": "c6b3a6c7-96b8-40a1-aebf-7fe862ddad6d",
   "metadata": {
    "tags": []
   },
   "outputs": [],
   "source": [
    "for r in records:\n",
    "    r['Title'] = r['\\ufeffTitle']\n",
    "    del r['\\ufeffTitle']"
   ]
  },
  {
   "cell_type": "code",
   "execution_count": 74,
   "id": "a159cba4-fa38-48ab-a028-fd852b9e102d",
   "metadata": {
    "tags": []
   },
   "outputs": [],
   "source": [
    "features = []\n",
    "\n",
    "for row in records:\n",
    "    points = []\n",
    "    clean = ''\n",
    "    for string in row['Project Location - In London'].split('\\n'):\n",
    "        res = re.search(r'\\((-\\d+|\\d+)\\d+.\\d+,(-\\d+|\\d+).\\d+\\)', string)\n",
    "        if (res):\n",
    "            clean = re.sub(r'\\((-\\d+|\\d+)\\d+.\\d+,(-\\d+|\\d+).\\d+\\)', '', string)\n",
    "            coord_string = re.sub(r'\\(|\\)', '', res[0])\n",
    "            coords = tuple([float(i) for i in coord_string.split(',')])\n",
    "            p = Point((coords[1], coords[0]))\n",
    "            points.append(p)\n",
    "    geom = MultiPoint(points)\n",
    "    \n",
    "    #partner_types = [row['Partnership 1'], row['Partnership 2'], row['Partnership 3'], row['Partnership 4']]\n",
    "    #funders = [row['Funder 1'], row['Funder 2'], row['Funder 3']]\n",
    "    \n",
    "    properties = {}\n",
    "    \n",
    "    for key, value in row.items():\n",
    "        properties[key] = value\n",
    "    \n",
    "    f = Feature(geometry=geom, properties=properties,\n",
    "    )\n",
    "    features.append(f)"
   ]
  },
  {
   "cell_type": "code",
   "execution_count": 75,
   "id": "44435cdd-0f90-430a-b604-df6d080cd370",
   "metadata": {
    "tags": []
   },
   "outputs": [],
   "source": [
    "collection = FeatureCollection(features)"
   ]
  },
  {
   "cell_type": "code",
   "execution_count": 76,
   "id": "7bb1e6ca-c014-4484-923d-c671aa4b32f0",
   "metadata": {
    "tags": []
   },
   "outputs": [],
   "source": [
    "with open('./data-master-research-locations-v11-2024-08-02.geojson', 'w') as file:\n",
    "    dump(collection, file)\n",
    "    file.close()"
   ]
  },
  {
   "cell_type": "markdown",
   "id": "a926ac50-cce2-43bf-b33b-5aa1c62c1803",
   "metadata": {},
   "source": [
    "## Create a graph..."
   ]
  },
  {
   "cell_type": "code",
   "execution_count": 21,
   "id": "62858f76-ace2-4121-9955-a94ca2450b70",
   "metadata": {
    "tags": []
   },
   "outputs": [],
   "source": [
    "import networkx as nx"
   ]
  },
  {
   "cell_type": "code",
   "execution_count": 28,
   "id": "b236cbc0-24ec-4945-b7e7-131a23013c3a",
   "metadata": {
    "tags": []
   },
   "outputs": [],
   "source": [
    "g = nx.Graph()\n",
    "\n",
    "for r in records:\n",
    "    if r['Department'] == '':\n",
    "        continue\n",
    "    \n",
    "    department = r['Department']\n",
    "    \n",
    "    if department not in g.nodes():\n",
    "        g.add_node(department, node_type='department')\n",
    "    \n",
    "    p_types = [r['Partnership 1'], r['Partnership 2'], r['Partnership 3'], r['Partnership 4']]\n",
    "    funders = [r['Funder 1'], r['Funder 2'], r['Funder 3']]\n",
    "    \n",
    "    #for p in p_types:\n",
    "    #    if p == '':\n",
    "    #        continue\n",
    "    #    if p not in g.nodes():\n",
    "    #        g.add_node(p, node_type='partnership')\n",
    "    #    g.add_edge(department, p)\n",
    "    \n",
    "    for f in funders:\n",
    "        if f == '':\n",
    "            continue\n",
    "        if f not in g.nodes():\n",
    "            g.add_node(f, node_type='funder')\n",
    "        g.add_edge(department, f)\n",
    "        \n",
    "    #if r['Filter 2 (Themes)'] != '':\n",
    "    #    subject = r['Filter 2 (Themes)']\n",
    "    #    if subject not in g.nodes():\n",
    "    #        g.add_node(subject, node_type='research area')\n",
    "    #    g.add_edge(department, subject)"
   ]
  },
  {
   "cell_type": "code",
   "execution_count": 29,
   "id": "178dfa6a-a894-45f0-aa98-efcbe624188c",
   "metadata": {
    "tags": []
   },
   "outputs": [],
   "source": [
    "nx.write_gexf(g, 'departments-funders-network-v1-2024-07-11.gexf')"
   ]
  },
  {
   "cell_type": "code",
   "execution_count": null,
   "id": "9956fb98-9eda-428e-aeba-e030900d1c4b",
   "metadata": {},
   "outputs": [],
   "source": [
    "# Again, but source, target, value csv"
   ]
  },
  {
   "cell_type": "code",
   "execution_count": 39,
   "id": "75ae6ce9-a577-4526-82fe-bd7ae91864f7",
   "metadata": {
    "tags": []
   },
   "outputs": [],
   "source": [
    "edges = []\n",
    "points = []\n",
    "\n",
    "for r in records:\n",
    "    if r['Department'] == '':\n",
    "        continue\n",
    "    \n",
    "    department = r['Department']\n",
    "    \n",
    "    point = {'ID': department, 'Group': 'A'}\n",
    "    \n",
    "    if point not in points:\n",
    "        points.append(point)\n",
    "    \n",
    "    p_types = [r['Partnership 1'], r['Partnership 2'], r['Partnership 3'], r['Partnership 4']]\n",
    "    \n",
    "    for p in p_types:\n",
    "        \n",
    "        if p == '':\n",
    "            continue\n",
    "\n",
    "        source_target_pair = [x for x in edges if x['source'] == department and x['target'] == p]\n",
    "\n",
    "        if len(source_target_pair):\n",
    "            source_target_pair[0]['value'] += 1\n",
    "        else:\n",
    "            edge = {'source': department, 'target': p, 'value': 1}\n",
    "            edges.append(edge)\n",
    "\n",
    "        point = {'ID': p, 'Group': 'B'}\n",
    "\n",
    "        if point not in points:\n",
    "            points.append(point)\n",
    "            \n",
    "            "
   ]
  },
  {
   "cell_type": "code",
   "execution_count": 40,
   "id": "0a0e4e1b-4cd9-48bd-af9f-e73e00083aab",
   "metadata": {
    "tags": []
   },
   "outputs": [],
   "source": [
    "with open('department-to-partnership-types-edges-v1-2024-07-11.csv', 'w') as file:\n",
    "    writer = csv.DictWriter(file, fieldnames=list(edges[0].keys()))\n",
    "    writer.writeheader()\n",
    "    for row in edges:\n",
    "        writer.writerow(row)\n",
    "    file.close()"
   ]
  },
  {
   "cell_type": "code",
   "execution_count": 41,
   "id": "57e6a93f-65f3-41f9-a3f0-3f4ecc4bb378",
   "metadata": {
    "tags": []
   },
   "outputs": [],
   "source": [
    "with open('department-to-partnership-types-points-v1-2024-07-11.csv', 'w') as file:\n",
    "    writer = csv.DictWriter(file, fieldnames=list(points[0].keys()))\n",
    "    writer.writeheader()\n",
    "    for row in points:\n",
    "        writer.writerow(row)\n",
    "    file.close()"
   ]
  },
  {
   "cell_type": "markdown",
   "id": "5ad001e8-6727-4946-bf2c-4aaec6b0f9aa",
   "metadata": {},
   "source": [
    "## Bring in London Boroughs"
   ]
  },
  {
   "cell_type": "code",
   "execution_count": 77,
   "id": "a39800b1-7230-4bac-8ea7-e2826bff634e",
   "metadata": {
    "tags": []
   },
   "outputs": [],
   "source": [
    "bartlett_data = gpd.read_file('./data-master-research-locations-v11-2024-08-02.geojson')"
   ]
  },
  {
   "cell_type": "code",
   "execution_count": 93,
   "id": "22ce798a-7433-4f0f-848a-05aeae2b02d4",
   "metadata": {
    "tags": []
   },
   "outputs": [
    {
     "data": {
      "text/plain": [
       "760"
      ]
     },
     "execution_count": 93,
     "metadata": {},
     "output_type": "execute_result"
    }
   ],
   "source": [
    "len(bartlett_data)"
   ]
  },
  {
   "cell_type": "code",
   "execution_count": 80,
   "id": "0ef03446-51ea-4a39-b760-0dd1db5409d8",
   "metadata": {
    "tags": []
   },
   "outputs": [],
   "source": [
    "boroughs = gpd.read_file('/Users/djch21/Documents/UCL/Bartlett Activity Mapping/Data/bil-data/statistical-gis-boundaries-london/ESRI/London_Borough_Excluding_MHW.shp')"
   ]
  },
  {
   "cell_type": "code",
   "execution_count": 81,
   "id": "4e186546-b987-4292-b72f-2af2adca5e96",
   "metadata": {
    "tags": []
   },
   "outputs": [
    {
     "data": {
      "text/plain": [
       "<Axes: >"
      ]
     },
     "execution_count": 81,
     "metadata": {},
     "output_type": "execute_result"
    },
    {
     "data": {
      "image/png": "[encoded data removed]",
      "text/plain": [
       "<Figure size 640x480 with 1 Axes>"
      ]
     },
     "metadata": {},
     "output_type": "display_data"
    }
   ],
   "source": [
    "boroughs.plot()"
   ]
  },
  {
   "cell_type": "code",
   "execution_count": 84,
   "id": "e876ca91-0b44-44f0-b20d-3c364a2161e1",
   "metadata": {
    "tags": []
   },
   "outputs": [],
   "source": [
    "boroughs = boroughs.to_crs(epsg=4326)"
   ]
  },
  {
   "cell_type": "code",
   "execution_count": 85,
   "id": "0936c8c6-411d-49ec-8206-14a5f6094f1a",
   "metadata": {
    "tags": []
   },
   "outputs": [
    {
     "data": {
      "text/plain": [
       "<Geographic 2D CRS: EPSG:4326>\n",
       "Name: WGS 84\n",
       "Axis Info [ellipsoidal]:\n",
       "- Lat[north]: Geodetic latitude (degree)\n",
       "- Lon[east]: Geodetic longitude (degree)\n",
       "Area of Use:\n",
       "- name: World.\n",
       "- bounds: (-180.0, -90.0, 180.0, 90.0)\n",
       "Datum: World Geodetic System 1984 ensemble\n",
       "- Ellipsoid: WGS 84\n",
       "- Prime Meridian: Greenwich"
      ]
     },
     "execution_count": 85,
     "metadata": {},
     "output_type": "execute_result"
    }
   ],
   "source": [
    "bartlett_data.crs"
   ]
  },
  {
   "cell_type": "code",
   "execution_count": 86,
   "id": "83cf7d36-21b5-45a5-96f3-d23e74c85a21",
   "metadata": {
    "tags": []
   },
   "outputs": [
    {
     "data": {
      "text/plain": [
       "True"
      ]
     },
     "execution_count": 86,
     "metadata": {},
     "output_type": "execute_result"
    }
   ],
   "source": [
    "boroughs.crs == bartlett_data.crs"
   ]
  },
  {
   "cell_type": "code",
   "execution_count": 87,
   "id": "3f4c8274-0ddb-4caa-9459-0c9266bea22c",
   "metadata": {
    "tags": []
   },
   "outputs": [],
   "source": [
    "# Join the Boroughs data using a point-in-polygon query - each record will now have the name of the associated Borough with it\n",
    "join_left_df = bartlett_data.sjoin(boroughs, how='left')"
   ]
  },
  {
   "cell_type": "code",
   "execution_count": 89,
   "id": "3c49c7b1-c142-4620-b5f0-4927dd09c6c0",
   "metadata": {
    "tags": []
   },
   "outputs": [
    {
     "data": {
      "text/plain": [
       "802"
      ]
     },
     "execution_count": 89,
     "metadata": {},
     "output_type": "execute_result"
    }
   ],
   "source": [
    "len(join_left_df)"
   ]
  },
  {
   "cell_type": "code",
   "execution_count": 91,
   "id": "d9851fcf-946d-411a-b019-f334e393dd02",
   "metadata": {
    "tags": []
   },
   "outputs": [
    {
     "name": "stderr",
     "output_type": "stream",
     "text": [
      "/Users/djch21/Code/venv/jupyter/lib/python3.11/site-packages/pyogrio/geopandas.py:523: UserWarning: GeoSeries.notna() previously returned False for both missing (None) and empty geometries. Now, it only returns False for missing values. Since the calling GeoSeries contains empty geometries, the result has changed compared to previous versions of GeoPandas.\n",
      "Given a GeoSeries 's', you can use '~s.is_empty & s.notna()' to get back the old behaviour.\n",
      "\n",
      "To further ignore this warning, you can do: \n",
      "import warnings; warnings.filterwarnings('ignore', 'GeoSeries.notna', UserWarning)\n",
      "  has_z_arr = geometry[geometry.notna() & (~geometry.is_empty)].has_z\n"
     ]
    }
   ],
   "source": [
    "join_left_df.to_file('bartlett-data-with-boroughs-v1-2024-09-02.geojson', driver='GeoJSON')"
   ]
  },
  {
   "cell_type": "code",
   "execution_count": 99,
   "id": "ff8e7b2b-80d0-48e1-bf5a-b968cb541e0b",
   "metadata": {
    "tags": []
   },
   "outputs": [],
   "source": [
    "# Reimport the JSON and save as a CSV - null geometries throw the 'CSV' write option for GeoPandas\n",
    "\n",
    "bil_with_boroughs_json = json.load(open('./bartlett-data-with-boroughs-v1-2024-09-02.geojson'))"
   ]
  },
  {
   "cell_type": "code",
   "execution_count": 103,
   "id": "4d4e94dc-4805-4bc3-a822-ee75cab061ca",
   "metadata": {
    "tags": []
   },
   "outputs": [],
   "source": [
    "bil_with_boroughs = []\n",
    "\n",
    "for f in bil_with_boroughs_json['features']:\n",
    "    bil_with_boroughs.append(f['properties'])"
   ]
  },
  {
   "cell_type": "code",
   "execution_count": 104,
   "id": "e0e0d4b1-7140-445e-9311-8361da000954",
   "metadata": {
    "tags": []
   },
   "outputs": [
    {
     "data": {
      "text/plain": [
       "{'UUID': 'e5dc5aaeefb3530d03f5ad5b6a85d75a',\n",
       " 'Memory Mapper Title (keywords to identify the project) (should include the research content': '\"Real\" wages? Contractors, workers, and pay in London building trades, 1650-1800',\n",
       " 'Project Location - In London': \"St Paul's Cathedral (51.5137871,-0.0984506) \\nSt James Garlickhythe (51.5111244,-0.0936711) \\nGreenwich Hospital (51.483587,-0.007198) \\nWestminster Abbey (51.499399,-0.127391)\\nMiddle Temple (51.51235580444336,-0.1110706701874733)\\nBridge House (51.504962,-0.087651) \\nWestminster Bridge (51.5008659362793,-0.12243890017271042) \\nBlenheim Estate (51.454215,-0.123179)\",\n",
       " 'Date': '2017',\n",
       " 'Link': 'https://onlinelibrary.wiley.com/doi/abs/10.1111/ehr.12491',\n",
       " 'Identification- DOI/URL/ISBN/Reference no.': '10.1111/ehr.12491',\n",
       " 'Authors': 'Judy Z Stephenson ',\n",
       " 'London Authors': '',\n",
       " 'Other Author (National+International)': '',\n",
       " 'Department': 'Bartlett School of Sustainable Construction (51.521897,-0.134542)',\n",
       " 'Abstract': 'Existing series suggest wages in London were higher than in other European cities from 1650 to 1800. This article presents new evidence from the construction sites that supplied the underlying wage data, and uncovers the contractual and organizational context in which they were recorded. Institutional records of wages were profoundly affected by structural changes in the seventeenth century, particularly the emergence of large-scale building contractors. The actual wages paid to London building workers were substantially below current estimates.',\n",
       " 'Partners': '',\n",
       " 'Partnership Location - In London': '',\n",
       " 'Partnership': '',\n",
       " 'Policy Sources////Citations ( from Overton)': 'Government, IGO ',\n",
       " 'Policy source subcategory': 'Bank',\n",
       " 'Partnership 1': '',\n",
       " 'Partnership 2': '',\n",
       " 'Partnership 3': '',\n",
       " 'Partnership 4': '',\n",
       " 'Filter 2 (Themes)': 'Construction and Engineering ',\n",
       " 'Funder 1': '',\n",
       " 'Funder 2': '',\n",
       " 'Funder 3': '',\n",
       " 'Source': 'REF 2021',\n",
       " 'Output type': '',\n",
       " 'Title': '\"Real\\' wages? Contractors, workers, and pay in London building trades, 1650-1800',\n",
       " 'index_right': 10.0,\n",
       " 'NAME': 'Lambeth',\n",
       " 'GSS_CODE': 'E09000022',\n",
       " 'HECTARES': 2724.94,\n",
       " 'NONLD_AREA': 43.927,\n",
       " 'ONS_INNER': 'T',\n",
       " 'SUB_2009': None,\n",
       " 'SUB_2006': None}"
      ]
     },
     "execution_count": 104,
     "metadata": {},
     "output_type": "execute_result"
    }
   ],
   "source": [
    "bil_with_boroughs[0]"
   ]
  },
  {
   "cell_type": "markdown",
   "id": "e5480f2e-3382-47dc-bb9c-ced6556d127c",
   "metadata": {},
   "source": [
    "## The above only brought in some of the points - the main research locations; it would be better to give each record a list of boroughs with which it is associated."
   ]
  },
  {
   "cell_type": "code",
   "execution_count": 118,
   "id": "46b44ff4-3c7b-42ff-ba05-47ea9ea58f7b",
   "metadata": {
    "tags": []
   },
   "outputs": [],
   "source": [
    "# Method: \n",
    "# 1. Import the boroughs to Geopandas\n",
    "# 2. Iterate over each one and make a new geodataframe which is then saved as a geojson snippet in a list\n",
    "# 3. Iterate over the bartlett data, extracting the points as above, and use shapely to test whether they're in a borough\n",
    "# 4. If they are, add it to a list of boroughs for each record, which is then appended to the record\n",
    "\n",
    "boroughs = gpd.read_file('/Users/djch21/Documents/UCL/Bartlett Activity Mapping/Data/bil-data/statistical-gis-boundaries-london/ESRI/London_Borough_Excluding_MHW.shp')"
   ]
  },
  {
   "cell_type": "code",
   "execution_count": 119,
   "id": "ca8251f6-1742-42f4-9c9c-7b6c69913911",
   "metadata": {
    "tags": []
   },
   "outputs": [],
   "source": [
    "boroughs = boroughs.to_crs(epsg=4326)"
   ]
  },
  {
   "cell_type": "code",
   "execution_count": 157,
   "id": "22a89b1e-c2b8-4924-8dad-a3f146572ccc",
   "metadata": {
    "tags": []
   },
   "outputs": [],
   "source": [
    "records = []\n",
    "\n",
    "with open('DATA MASTER-dh-copy-v11-2024-09-02.csv', encoding='utf-8-sig') as file:\n",
    "    reader = csv.DictReader(file)\n",
    "    for row in reader:\n",
    "        records.append(row)\n",
    "    file.close() "
   ]
  },
  {
   "cell_type": "code",
   "execution_count": 158,
   "id": "3d4241d4-94ec-4059-a30d-21e0f39ce8fd",
   "metadata": {
    "tags": []
   },
   "outputs": [],
   "source": [
    "features = []\n",
    "\n",
    "for row in records:\n",
    "    points = []\n",
    "    clean = ''\n",
    "    for string in row['Project Location - In London'].split('\\n'):\n",
    "        res = re.search(r'\\((-\\d+|\\d+)\\d+.\\d+,(-\\d+|\\d+).\\d+\\)', string)\n",
    "        if (res):\n",
    "            clean = re.sub(r'\\((-\\d+|\\d+)\\d+.\\d+,(-\\d+|\\d+).\\d+\\)', '', string)\n",
    "            coord_string = re.sub(r'\\(|\\)', '', res[0])\n",
    "            coords = tuple([float(i) for i in coord_string.split(',')])\n",
    "            p = Point((coords[1], coords[0]))\n",
    "            points.append(p)\n",
    "    geom = MultiPoint(points)\n",
    "    \n",
    "    # now test each point to see if it's in a London borough\n",
    "    \n",
    "    brghs = [] # don't clash the variable names...\n",
    "    \n",
    "    for p in points:\n",
    "        for b in boroughs.iterrows():\n",
    "            poly = b[1]['geometry']\n",
    "            point = shapely.from_geojson(json.dumps(p))\n",
    "    \n",
    "            if shapely.contains(poly, point):\n",
    "                brghs.append(b[1]['NAME'])\n",
    "    \n",
    "    #partner_types = [row['Partnership 1'], row['Partnership 2'], row['Partnership 3'], row['Partnership 4']]\n",
    "    #funders = [row['Funder 1'], row['Funder 2'], row['Funder 3']]\n",
    "    \n",
    "    properties = {}\n",
    "    \n",
    "    for key, value in row.items():\n",
    "        properties[key] = value\n",
    "    \n",
    "    properties['boroughs'] = list(set(brghs))\n",
    "    \n",
    "    f = Feature(geometry=geom, properties=properties,\n",
    "    )\n",
    "    features.append(f)"
   ]
  },
  {
   "cell_type": "code",
   "execution_count": 140,
   "id": "6dcec21d-1c5b-404f-9290-77172d2316b9",
   "metadata": {
    "tags": []
   },
   "outputs": [
    {
     "data": {
      "text/plain": [
       "['Lambeth', 'City of London', 'Southwark', 'Greenwich', 'Westminster']"
      ]
     },
     "execution_count": 140,
     "metadata": {},
     "output_type": "execute_result"
    }
   ],
   "source": [
    "features[0]['properties']['boroughs']"
   ]
  },
  {
   "cell_type": "code",
   "execution_count": 159,
   "id": "d08cf49a-8300-426b-920d-0664b2f703b6",
   "metadata": {
    "tags": []
   },
   "outputs": [],
   "source": [
    "collection = FeatureCollection(features)\n",
    "\n",
    "#with open('./data-master-research-locations-v11-2024-09-09.geojson', 'w') as file:\n",
    "#    dump(collection, file)\n",
    "#    file.close()"
   ]
  },
  {
   "cell_type": "code",
   "execution_count": 161,
   "id": "3363531b-3345-4afc-9801-7c41badfdb09",
   "metadata": {
    "tags": []
   },
   "outputs": [],
   "source": [
    "# convert to csv\n",
    "\n",
    "csv_data= []\n",
    "\n",
    "for f in collection['features']:\n",
    "    copied = dict(f)\n",
    "    row = copied['properties']\n",
    "    copied['properties'] = {}\n",
    "    geom = json.dumps(copied)\n",
    "    row['geometry'] = geom\n",
    "    csv_data.append(row)\n",
    "    "
   ]
  },
  {
   "cell_type": "code",
   "execution_count": 164,
   "id": "63b51a3a-6898-40b3-92d3-a3fc5d6136ae",
   "metadata": {
    "tags": []
   },
   "outputs": [],
   "source": [
    "with open('./data-master-research-locations-v11-2024-09-09.csv', 'w') as file:\n",
    "    writer = csv.DictWriter(file, fieldnames=list(csv_data[0].keys()))\n",
    "    writer.writeheader()\n",
    "    for row in csv_data:\n",
    "        writer.writerow(row)\n",
    "    file.close()"
   ]
  },
  {
   "cell_type": "markdown",
   "id": "b5af3101-2a57-4d69-a4f1-142add15067a",
   "metadata": {
    "tags": []
   },
   "source": [
    "## Visualise..."
   ]
  },
  {
   "cell_type": "code",
   "execution_count": 166,
   "id": "51c2d0d7-a899-406e-adf7-65253df52291",
   "metadata": {
    "tags": []
   },
   "outputs": [],
   "source": [
    "borough_counts = {}\n",
    "\n",
    "for rec in csv_data:\n",
    "    for b in rec['boroughs']:\n",
    "        if b not in borough_counts:\n",
    "            borough_counts[b] = 1\n",
    "        else:\n",
    "            borough_counts[b] += 1"
   ]
  },
  {
   "cell_type": "code",
   "execution_count": 174,
   "id": "2cc29a28-e410-4732-ae49-119212bd5cfb",
   "metadata": {
    "tags": []
   },
   "outputs": [],
   "source": [
    "borough_counts_tidy = []\n",
    "\n",
    "for key, value in borough_counts.items():\n",
    "    row = {'borough': key, 'count': value}\n",
    "    borough_counts_tidy.append(row)"
   ]
  },
  {
   "cell_type": "code",
   "execution_count": 169,
   "id": "463f9062-56bb-40ec-a698-323a2cc26ef7",
   "metadata": {
    "tags": []
   },
   "outputs": [],
   "source": [
    "import plotly.express as px\n",
    "import pandas as pd"
   ]
  },
  {
   "cell_type": "code",
   "execution_count": 183,
   "id": "1ab7af25-0495-4613-be99-47479a5d3925",
   "metadata": {
    "tags": []
   },
   "outputs": [],
   "source": [
    "b_counts = pd.DataFrame(data=borough_counts_tidy)"
   ]
  },
  {
   "cell_type": "code",
   "execution_count": 184,
   "id": "5a6b2b5c-efd8-4ed9-b3d2-87482b5f56ab",
   "metadata": {
    "tags": []
   },
   "outputs": [],
   "source": [
    "b_counts = b_counts.sort_values(by='count', ascending=False)"
   ]
  },
  {
   "cell_type": "code",
   "execution_count": 185,
   "id": "b1645e2f-5727-46e4-a89c-615a9925026a",
   "metadata": {
    "tags": []
   },
   "outputs": [],
   "source": [
    "fig = px.bar(b_counts, x='borough', y='count')"
   ]
  },
  {
   "cell_type": "code",
   "execution_count": 186,
   "id": "272d17d9-8f5b-4038-91ee-2c06d6317d54",
   "metadata": {
    "tags": []
   },
   "outputs": [
    {
     "data": {
      "application/vnd.plotly.v1+json": {
       "config": {
        "plotlyServerURL": "https://plot.ly"
       },
       "data": [
        {
         "alignmentgroup": "True",
         "hovertemplate": "borough=%{x}<br>count=%{y}<extra></extra>",
         "legendgroup": "",
         "marker": {
          "color": "#636efa",
          "pattern": {
           "shape": ""
          }
         },
         "name": "",
         "offsetgroup": "",
         "orientation": "v",
         "showlegend": false,
         "textposition": "auto",
         "type": "bar",
         "x": [
          "Hackney",
          "Camden",
          "City of London",
          "Westminster",
          "Newham",
          "Tower Hamlets",
          "Greenwich",
          "Kensington and Chelsea",
          "Barking and Dagenham",
          "Islington",
          "Barnet",
          "Lambeth",
          "Ealing",
          "Southwark",
          "Brent",
          "Hammersmith and Fulham",
          "Lewisham",
          "Haringey",
          "Hillingdon",
          "Croydon",
          "Richmond upon Thames",
          "Wandsworth",
          "Merton",
          "Harrow",
          "Kingston upon Thames",
          "Enfield"
         ],
         "xaxis": "x",
         "y": [
          18,
          18,
          15,
          15,
          15,
          12,
          7,
          6,
          5,
          5,
          5,
          5,
          4,
          4,
          3,
          3,
          3,
          2,
          2,
          2,
          1,
          1,
          1,
          1,
          1,
          1
         ],
         "yaxis": "y"
        }
       ],
       "layout": {
        "autosize": true,
        "barmode": "relative",
        "legend": {
         "tracegroupgap": 0
        },
        "margin": {
         "t": 60
        },
        "template": {
         "data": {
          "bar": [
           {
            "error_x": {
             "color": "#2a3f5f"
            },
            "error_y": {
             "color": "#2a3f5f"
            },
            "marker": {
             "line": {
              "color": "#E5ECF6",
              "width": 0.5
             },
             "pattern": {
              "fillmode": "overlay",
              "size": 10,
              "solidity": 0.2
             }
            },
            "type": "bar"
           }
          ],
          "barpolar": [
           {
            "marker": {
             "line": {
              "color": "#E5ECF6",
              "width": 0.5
             },
             "pattern": {
              "fillmode": "overlay",
              "size": 10,
              "solidity": 0.2
             }
            },
            "type": "barpolar"
           }
          ],
          "carpet": [
           {
            "aaxis": {
             "endlinecolor": "#2a3f5f",
             "gridcolor": "white",
             "linecolor": "white",
             "minorgridcolor": "white",
             "startlinecolor": "#2a3f5f"
            },
            "baxis": {
             "endlinecolor": "#2a3f5f",
             "gridcolor": "white",
             "linecolor": "white",
             "minorgridcolor": "white",
             "startlinecolor": "#2a3f5f"
            },
            "type": "carpet"
           }
          ],
          "choropleth": [
           {
            "colorbar": {
             "outlinewidth": 0,
             "ticks": ""
            },
            "type": "choropleth"
           }
          ],
          "contour": [
           {
            "colorbar": {
             "outlinewidth": 0,
             "ticks": ""
            },
            "colorscale": [
             [
              0,
              "#0d0887"
             ],
             [
              0.1111111111111111,
              "#46039f"
             ],
             [
              0.2222222222222222,
              "#7201a8"
             ],
             [
              0.3333333333333333,
              "#9c179e"
             ],
             [
              0.4444444444444444,
              "#bd3786"
             ],
             [
              0.5555555555555556,
              "#d8576b"
             ],
             [
              0.6666666666666666,
              "#ed7953"
             ],
             [
              0.7777777777777778,
              "#fb9f3a"
             ],
             [
              0.8888888888888888,
              "#fdca26"
             ],
             [
              1,
              "#f0f921"
             ]
            ],
            "type": "contour"
           }
          ],
          "contourcarpet": [
           {
            "colorbar": {
             "outlinewidth": 0,
             "ticks": ""
            },
            "type": "contourcarpet"
           }
          ],
          "heatmap": [
           {
            "colorbar": {
             "outlinewidth": 0,
             "ticks": ""
            },
            "colorscale": [
             [
              0,
              "#0d0887"
             ],
             [
              0.1111111111111111,
              "#46039f"
             ],
             [
              0.2222222222222222,
              "#7201a8"
             ],
             [
              0.3333333333333333,
              "#9c179e"
             ],
             [
              0.4444444444444444,
              "#bd3786"
             ],
             [
              0.5555555555555556,
              "#d8576b"
             ],
             [
              0.6666666666666666,
              "#ed7953"
             ],
             [
              0.7777777777777778,
              "#fb9f3a"
             ],
             [
              0.8888888888888888,
              "#fdca26"
             ],
             [
              1,
              "#f0f921"
             ]
            ],
            "type": "heatmap"
           }
          ],
          "heatmapgl": [
           {
            "colorbar": {
             "outlinewidth": 0,
             "ticks": ""
            },
            "colorscale": [
             [
              0,
              "#0d0887"
             ],
             [
              0.1111111111111111,
              "#46039f"
             ],
             [
              0.2222222222222222,
              "#7201a8"
             ],
             [
              0.3333333333333333,
              "#9c179e"
             ],
             [
              0.4444444444444444,
              "#bd3786"
             ],
             [
              0.5555555555555556,
              "#d8576b"
             ],
             [
              0.6666666666666666,
              "#ed7953"
             ],
             [
              0.7777777777777778,
              "#fb9f3a"
             ],
             [
              0.8888888888888888,
              "#fdca26"
             ],
             [
              1,
              "#f0f921"
             ]
            ],
            "type": "heatmapgl"
           }
          ],
          "histogram": [
           {
            "marker": {
             "pattern": {
              "fillmode": "overlay",
              "size": 10,
              "solidity": 0.2
             }
            },
            "type": "histogram"
           }
          ],
          "histogram2d": [
           {
            "colorbar": {
             "outlinewidth": 0,
             "ticks": ""
            },
            "colorscale": [
             [
              0,
              "#0d0887"
             ],
             [
              0.1111111111111111,
              "#46039f"
             ],
             [
              0.2222222222222222,
              "#7201a8"
             ],
             [
              0.3333333333333333,
              "#9c179e"
             ],
             [
              0.4444444444444444,
              "#bd3786"
             ],
             [
              0.5555555555555556,
              "#d8576b"
             ],
             [
              0.6666666666666666,
              "#ed7953"
             ],
             [
              0.7777777777777778,
              "#fb9f3a"
             ],
             [
              0.8888888888888888,
              "#fdca26"
             ],
             [
              1,
              "#f0f921"
             ]
            ],
            "type": "histogram2d"
           }
          ],
          "histogram2dcontour": [
           {
            "colorbar": {
             "outlinewidth": 0,
             "ticks": ""
            },
            "colorscale": [
             [
              0,
              "#0d0887"
             ],
             [
              0.1111111111111111,
              "#46039f"
             ],
             [
              0.2222222222222222,
              "#7201a8"
             ],
             [
              0.3333333333333333,
              "#9c179e"
             ],
             [
              0.4444444444444444,
              "#bd3786"
             ],
             [
              0.5555555555555556,
              "#d8576b"
             ],
             [
              0.6666666666666666,
              "#ed7953"
             ],
             [
              0.7777777777777778,
              "#fb9f3a"
             ],
             [
              0.8888888888888888,
              "#fdca26"
             ],
             [
              1,
              "#f0f921"
             ]
            ],
            "type": "histogram2dcontour"
           }
          ],
          "mesh3d": [
           {
            "colorbar": {
             "outlinewidth": 0,
             "ticks": ""
            },
            "type": "mesh3d"
           }
          ],
          "parcoords": [
           {
            "line": {
             "colorbar": {
              "outlinewidth": 0,
              "ticks": ""
             }
            },
            "type": "parcoords"
           }
          ],
          "pie": [
           {
            "automargin": true,
            "type": "pie"
           }
          ],
          "scatter": [
           {
            "fillpattern": {
             "fillmode": "overlay",
             "size": 10,
             "solidity": 0.2
            },
            "type": "scatter"
           }
          ],
          "scatter3d": [
           {
            "line": {
             "colorbar": {
              "outlinewidth": 0,
              "ticks": ""
             }
            },
            "marker": {
             "colorbar": {
              "outlinewidth": 0,
              "ticks": ""
             }
            },
            "type": "scatter3d"
           }
          ],
          "scattercarpet": [
           {
            "marker": {
             "colorbar": {
              "outlinewidth": 0,
              "ticks": ""
             }
            },
            "type": "scattercarpet"
           }
          ],
          "scattergeo": [
           {
            "marker": {
             "colorbar": {
              "outlinewidth": 0,
              "ticks": ""
             }
            },
            "type": "scattergeo"
           }
          ],
          "scattergl": [
           {
            "marker": {
             "colorbar": {
              "outlinewidth": 0,
              "ticks": ""
             }
            },
            "type": "scattergl"
           }
          ],
          "scattermapbox": [
           {
            "marker": {
             "colorbar": {
              "outlinewidth": 0,
              "ticks": ""
             }
            },
            "type": "scattermapbox"
           }
          ],
          "scatterpolar": [
           {
            "marker": {
             "colorbar": {
              "outlinewidth": 0,
              "ticks": ""
             }
            },
            "type": "scatterpolar"
           }
          ],
          "scatterpolargl": [
           {
            "marker": {
             "colorbar": {
              "outlinewidth": 0,
              "ticks": ""
             }
            },
            "type": "scatterpolargl"
           }
          ],
          "scatterternary": [
           {
            "marker": {
             "colorbar": {
              "outlinewidth": 0,
              "ticks": ""
             }
            },
            "type": "scatterternary"
           }
          ],
          "surface": [
           {
            "colorbar": {
             "outlinewidth": 0,
             "ticks": ""
            },
            "colorscale": [
             [
              0,
              "#0d0887"
             ],
             [
              0.1111111111111111,
              "#46039f"
             ],
             [
              0.2222222222222222,
              "#7201a8"
             ],
             [
              0.3333333333333333,
              "#9c179e"
             ],
             [
              0.4444444444444444,
              "#bd3786"
             ],
             [
              0.5555555555555556,
              "#d8576b"
             ],
             [
              0.6666666666666666,
              "#ed7953"
             ],
             [
              0.7777777777777778,
              "#fb9f3a"
             ],
             [
              0.8888888888888888,
              "#fdca26"
             ],
             [
              1,
              "#f0f921"
             ]
            ],
            "type": "surface"
           }
          ],
          "table": [
           {
            "cells": {
             "fill": {
              "color": "#EBF0F8"
             },
             "line": {
              "color": "white"
             }
            },
            "header": {
             "fill": {
              "color": "#C8D4E3"
             },
             "line": {
              "color": "white"
             }
            },
            "type": "table"
           }
          ]
         },
         "layout": {
          "annotationdefaults": {
           "arrowcolor": "#2a3f5f",
           "arrowhead": 0,
           "arrowwidth": 1
          },
          "autotypenumbers": "strict",
          "coloraxis": {
           "colorbar": {
            "outlinewidth": 0,
            "ticks": ""
           }
          },
          "colorscale": {
           "diverging": [
            [
             0,
             "#8e0152"
            ],
            [
             0.1,
             "#c51b7d"
            ],
            [
             0.2,
             "#de77ae"
            ],
            [
             0.3,
             "#f1b6da"
            ],
            [
             0.4,
             "#fde0ef"
            ],
            [
             0.5,
             "#f7f7f7"
            ],
            [
             0.6,
             "#e6f5d0"
            ],
            [
             0.7,
             "#b8e186"
            ],
            [
             0.8,
             "#7fbc41"
            ],
            [
             0.9,
             "#4d9221"
            ],
            [
             1,
             "#276419"
            ]
           ],
           "sequential": [
            [
             0,
             "#0d0887"
            ],
            [
             0.1111111111111111,
             "#46039f"
            ],
            [
             0.2222222222222222,
             "#7201a8"
            ],
            [
             0.3333333333333333,
             "#9c179e"
            ],
            [
             0.4444444444444444,
             "#bd3786"
            ],
            [
             0.5555555555555556,
             "#d8576b"
            ],
            [
             0.6666666666666666,
             "#ed7953"
            ],
            [
             0.7777777777777778,
             "#fb9f3a"
            ],
            [
             0.8888888888888888,
             "#fdca26"
            ],
            [
             1,
             "#f0f921"
            ]
           ],
           "sequentialminus": [
            [
             0,
             "#0d0887"
            ],
            [
             0.1111111111111111,
             "#46039f"
            ],
            [
             0.2222222222222222,
             "#7201a8"
            ],
            [
             0.3333333333333333,
             "#9c179e"
            ],
            [
             0.4444444444444444,
             "#bd3786"
            ],
            [
             0.5555555555555556,
             "#d8576b"
            ],
            [
             0.6666666666666666,
             "#ed7953"
            ],
            [
             0.7777777777777778,
             "#fb9f3a"
            ],
            [
             0.8888888888888888,
             "#fdca26"
            ],
            [
             1,
             "#f0f921"
            ]
           ]
          },
          "colorway": [
           "#636efa",
           "#EF553B",
           "#00cc96",
           "#ab63fa",
           "#FFA15A",
           "#19d3f3",
           "#FF6692",
           "#B6E880",
           "#FF97FF",
           "#FECB52"
          ],
          "font": {
           "color": "#2a3f5f"
          },
          "geo": {
           "bgcolor": "white",
           "lakecolor": "white",
           "landcolor": "#E5ECF6",
           "showlakes": true,
           "showland": true,
           "subunitcolor": "white"
          },
          "hoverlabel": {
           "align": "left"
          },
          "hovermode": "closest",
          "mapbox": {
           "style": "light"
          },
          "paper_bgcolor": "white",
          "plot_bgcolor": "#E5ECF6",
          "polar": {
           "angularaxis": {
            "gridcolor": "white",
            "linecolor": "white",
            "ticks": ""
           },
           "bgcolor": "#E5ECF6",
           "radialaxis": {
            "gridcolor": "white",
            "linecolor": "white",
            "ticks": ""
           }
          },
          "scene": {
           "xaxis": {
            "backgroundcolor": "#E5ECF6",
            "gridcolor": "white",
            "gridwidth": 2,
            "linecolor": "white",
            "showbackground": true,
            "ticks": "",
            "zerolinecolor": "white"
           },
           "yaxis": {
            "backgroundcolor": "#E5ECF6",
            "gridcolor": "white",
            "gridwidth": 2,
            "linecolor": "white",
            "showbackground": true,
            "ticks": "",
            "zerolinecolor": "white"
           },
           "zaxis": {
            "backgroundcolor": "#E5ECF6",
            "gridcolor": "white",
            "gridwidth": 2,
            "linecolor": "white",
            "showbackground": true,
            "ticks": "",
            "zerolinecolor": "white"
           }
          },
          "shapedefaults": {
           "line": {
            "color": "#2a3f5f"
           }
          },
          "ternary": {
           "aaxis": {
            "gridcolor": "white",
            "linecolor": "white",
            "ticks": ""
           },
           "baxis": {
            "gridcolor": "white",
            "linecolor": "white",
            "ticks": ""
           },
           "bgcolor": "#E5ECF6",
           "caxis": {
            "gridcolor": "white",
            "linecolor": "white",
            "ticks": ""
           }
          },
          "title": {
           "x": 0.05
          },
          "xaxis": {
           "automargin": true,
           "gridcolor": "white",
           "linecolor": "white",
           "ticks": "",
           "title": {
            "standoff": 15
           },
           "zerolinecolor": "white",
           "zerolinewidth": 2
          },
          "yaxis": {
           "automargin": true,
           "gridcolor": "white",
           "linecolor": "white",
           "ticks": "",
           "title": {
            "standoff": 15
           },
           "zerolinecolor": "white",
           "zerolinewidth": 2
          }
         }
        },
        "xaxis": {
         "anchor": "y",
         "autorange": true,
         "domain": [
          0,
          1
         ],
         "range": [
          -0.5,
          25.5
         ],
         "title": {
          "text": "borough"
         },
         "type": "category"
        },
        "yaxis": {
         "anchor": "x",
         "autorange": true,
         "domain": [
          0,
          1
         ],
         "range": [
          0,
          18.94736842105263
         ],
         "title": {
          "text": "count"
         },
         "type": "linear"
        }
       }
      },
      "image/png": "[encoded data removed]",
      "text/html": [
       "<div>                            <div id=\"87703046-2e7f-4d06-8278-e82616a04585\" class=\"plotly-graph-div\" style=\"height:525px; width:100%;\"></div>            <script type=\"text/javascript\">                require([\"plotly\"], function(Plotly) {                    window.PLOTLYENV=window.PLOTLYENV || {};                                    if (document.getElementById(\"87703046-2e7f-4d06-8278-e82616a04585\")) {                    Plotly.newPlot(                        \"87703046-2e7f-4d06-8278-e82616a04585\",                        [{\"alignmentgroup\":\"True\",\"hovertemplate\":\"borough=%{x}\\u003cbr\\u003ecount=%{y}\\u003cextra\\u003e\\u003c\\u002fextra\\u003e\",\"legendgroup\":\"\",\"marker\":{\"color\":\"#636efa\",\"pattern\":{\"shape\":\"\"}},\"name\":\"\",\"offsetgroup\":\"\",\"orientation\":\"v\",\"showlegend\":false,\"textposition\":\"auto\",\"x\":[\"Hackney\",\"Camden\",\"City of London\",\"Westminster\",\"Newham\",\"Tower Hamlets\",\"Greenwich\",\"Kensington and Chelsea\",\"Barking and Dagenham\",\"Islington\",\"Barnet\",\"Lambeth\",\"Ealing\",\"Southwark\",\"Brent\",\"Hammersmith and Fulham\",\"Lewisham\",\"Haringey\",\"Hillingdon\",\"Croydon\",\"Richmond upon Thames\",\"Wandsworth\",\"Merton\",\"Harrow\",\"Kingston upon Thames\",\"Enfield\"],\"xaxis\":\"x\",\"y\":[18,18,15,15,15,12,7,6,5,5,5,5,4,4,3,3,3,2,2,2,1,1,1,1,1,1],\"yaxis\":\"y\",\"type\":\"bar\"}],                        {\"template\":{\"data\":{\"histogram2dcontour\":[{\"type\":\"histogram2dcontour\",\"colorbar\":{\"outlinewidth\":0,\"ticks\":\"\"},\"colorscale\":[[0.0,\"#0d0887\"],[0.1111111111111111,\"#46039f\"],[0.2222222222222222,\"#7201a8\"],[0.3333333333333333,\"#9c179e\"],[0.4444444444444444,\"#bd3786\"],[0.5555555555555556,\"#d8576b\"],[0.6666666666666666,\"#ed7953\"],[0.7777777777777778,\"#fb9f3a\"],[0.8888888888888888,\"#fdca26\"],[1.0,\"#f0f921\"]]}],\"choropleth\":[{\"type\":\"choropleth\",\"colorbar\":{\"outlinewidth\":0,\"ticks\":\"\"}}],\"histogram2d\":[{\"type\":\"histogram2d\",\"colorbar\":{\"outlinewidth\":0,\"ticks\":\"\"},\"colorscale\":[[0.0,\"#0d0887\"],[0.1111111111111111,\"#46039f\"],[0.2222222222222222,\"#7201a8\"],[0.3333333333333333,\"#9c179e\"],[0.4444444444444444,\"#bd3786\"],[0.5555555555555556,\"#d8576b\"],[0.6666666666666666,\"#ed7953\"],[0.7777777777777778,\"#fb9f3a\"],[0.8888888888888888,\"#fdca26\"],[1.0,\"#f0f921\"]]}],\"heatmap\":[{\"type\":\"heatmap\",\"colorbar\":{\"outlinewidth\":0,\"ticks\":\"\"},\"colorscale\":[[0.0,\"#0d0887\"],[0.1111111111111111,\"#46039f\"],[0.2222222222222222,\"#7201a8\"],[0.3333333333333333,\"#9c179e\"],[0.4444444444444444,\"#bd3786\"],[0.5555555555555556,\"#d8576b\"],[0.6666666666666666,\"#ed7953\"],[0.7777777777777778,\"#fb9f3a\"],[0.8888888888888888,\"#fdca26\"],[1.0,\"#f0f921\"]]}],\"heatmapgl\":[{\"type\":\"heatmapgl\",\"colorbar\":{\"outlinewidth\":0,\"ticks\":\"\"},\"colorscale\":[[0.0,\"#0d0887\"],[0.1111111111111111,\"#46039f\"],[0.2222222222222222,\"#7201a8\"],[0.3333333333333333,\"#9c179e\"],[0.4444444444444444,\"#bd3786\"],[0.5555555555555556,\"#d8576b\"],[0.6666666666666666,\"#ed7953\"],[0.7777777777777778,\"#fb9f3a\"],[0.8888888888888888,\"#fdca26\"],[1.0,\"#f0f921\"]]}],\"contourcarpet\":[{\"type\":\"contourcarpet\",\"colorbar\":{\"outlinewidth\":0,\"ticks\":\"\"}}],\"contour\":[{\"type\":\"contour\",\"colorbar\":{\"outlinewidth\":0,\"ticks\":\"\"},\"colorscale\":[[0.0,\"#0d0887\"],[0.1111111111111111,\"#46039f\"],[0.2222222222222222,\"#7201a8\"],[0.3333333333333333,\"#9c179e\"],[0.4444444444444444,\"#bd3786\"],[0.5555555555555556,\"#d8576b\"],[0.6666666666666666,\"#ed7953\"],[0.7777777777777778,\"#fb9f3a\"],[0.8888888888888888,\"#fdca26\"],[1.0,\"#f0f921\"]]}],\"surface\":[{\"type\":\"surface\",\"colorbar\":{\"outlinewidth\":0,\"ticks\":\"\"},\"colorscale\":[[0.0,\"#0d0887\"],[0.1111111111111111,\"#46039f\"],[0.2222222222222222,\"#7201a8\"],[0.3333333333333333,\"#9c179e\"],[0.4444444444444444,\"#bd3786\"],[0.5555555555555556,\"#d8576b\"],[0.6666666666666666,\"#ed7953\"],[0.7777777777777778,\"#fb9f3a\"],[0.8888888888888888,\"#fdca26\"],[1.0,\"#f0f921\"]]}],\"mesh3d\":[{\"type\":\"mesh3d\",\"colorbar\":{\"outlinewidth\":0,\"ticks\":\"\"}}],\"scatter\":[{\"fillpattern\":{\"fillmode\":\"overlay\",\"size\":10,\"solidity\":0.2},\"type\":\"scatter\"}],\"parcoords\":[{\"type\":\"parcoords\",\"line\":{\"colorbar\":{\"outlinewidth\":0,\"ticks\":\"\"}}}],\"scatterpolargl\":[{\"type\":\"scatterpolargl\",\"marker\":{\"colorbar\":{\"outlinewidth\":0,\"ticks\":\"\"}}}],\"bar\":[{\"error_x\":{\"color\":\"#2a3f5f\"},\"error_y\":{\"color\":\"#2a3f5f\"},\"marker\":{\"line\":{\"color\":\"#E5ECF6\",\"width\":0.5},\"pattern\":{\"fillmode\":\"overlay\",\"size\":10,\"solidity\":0.2}},\"type\":\"bar\"}],\"scattergeo\":[{\"type\":\"scattergeo\",\"marker\":{\"colorbar\":{\"outlinewidth\":0,\"ticks\":\"\"}}}],\"scatterpolar\":[{\"type\":\"scatterpolar\",\"marker\":{\"colorbar\":{\"outlinewidth\":0,\"ticks\":\"\"}}}],\"histogram\":[{\"marker\":{\"pattern\":{\"fillmode\":\"overlay\",\"size\":10,\"solidity\":0.2}},\"type\":\"histogram\"}],\"scattergl\":[{\"type\":\"scattergl\",\"marker\":{\"colorbar\":{\"outlinewidth\":0,\"ticks\":\"\"}}}],\"scatter3d\":[{\"type\":\"scatter3d\",\"line\":{\"colorbar\":{\"outlinewidth\":0,\"ticks\":\"\"}},\"marker\":{\"colorbar\":{\"outlinewidth\":0,\"ticks\":\"\"}}}],\"scattermapbox\":[{\"type\":\"scattermapbox\",\"marker\":{\"colorbar\":{\"outlinewidth\":0,\"ticks\":\"\"}}}],\"scatterternary\":[{\"type\":\"scatterternary\",\"marker\":{\"colorbar\":{\"outlinewidth\":0,\"ticks\":\"\"}}}],\"scattercarpet\":[{\"type\":\"scattercarpet\",\"marker\":{\"colorbar\":{\"outlinewidth\":0,\"ticks\":\"\"}}}],\"carpet\":[{\"aaxis\":{\"endlinecolor\":\"#2a3f5f\",\"gridcolor\":\"white\",\"linecolor\":\"white\",\"minorgridcolor\":\"white\",\"startlinecolor\":\"#2a3f5f\"},\"baxis\":{\"endlinecolor\":\"#2a3f5f\",\"gridcolor\":\"white\",\"linecolor\":\"white\",\"minorgridcolor\":\"white\",\"startlinecolor\":\"#2a3f5f\"},\"type\":\"carpet\"}],\"table\":[{\"cells\":{\"fill\":{\"color\":\"#EBF0F8\"},\"line\":{\"color\":\"white\"}},\"header\":{\"fill\":{\"color\":\"#C8D4E3\"},\"line\":{\"color\":\"white\"}},\"type\":\"table\"}],\"barpolar\":[{\"marker\":{\"line\":{\"color\":\"#E5ECF6\",\"width\":0.5},\"pattern\":{\"fillmode\":\"overlay\",\"size\":10,\"solidity\":0.2}},\"type\":\"barpolar\"}],\"pie\":[{\"automargin\":true,\"type\":\"pie\"}]},\"layout\":{\"autotypenumbers\":\"strict\",\"colorway\":[\"#636efa\",\"#EF553B\",\"#00cc96\",\"#ab63fa\",\"#FFA15A\",\"#19d3f3\",\"#FF6692\",\"#B6E880\",\"#FF97FF\",\"#FECB52\"],\"font\":{\"color\":\"#2a3f5f\"},\"hovermode\":\"closest\",\"hoverlabel\":{\"align\":\"left\"},\"paper_bgcolor\":\"white\",\"plot_bgcolor\":\"#E5ECF6\",\"polar\":{\"bgcolor\":\"#E5ECF6\",\"angularaxis\":{\"gridcolor\":\"white\",\"linecolor\":\"white\",\"ticks\":\"\"},\"radialaxis\":{\"gridcolor\":\"white\",\"linecolor\":\"white\",\"ticks\":\"\"}},\"ternary\":{\"bgcolor\":\"#E5ECF6\",\"aaxis\":{\"gridcolor\":\"white\",\"linecolor\":\"white\",\"ticks\":\"\"},\"baxis\":{\"gridcolor\":\"white\",\"linecolor\":\"white\",\"ticks\":\"\"},\"caxis\":{\"gridcolor\":\"white\",\"linecolor\":\"white\",\"ticks\":\"\"}},\"coloraxis\":{\"colorbar\":{\"outlinewidth\":0,\"ticks\":\"\"}},\"colorscale\":{\"sequential\":[[0.0,\"#0d0887\"],[0.1111111111111111,\"#46039f\"],[0.2222222222222222,\"#7201a8\"],[0.3333333333333333,\"#9c179e\"],[0.4444444444444444,\"#bd3786\"],[0.5555555555555556,\"#d8576b\"],[0.6666666666666666,\"#ed7953\"],[0.7777777777777778,\"#fb9f3a\"],[0.8888888888888888,\"#fdca26\"],[1.0,\"#f0f921\"]],\"sequentialminus\":[[0.0,\"#0d0887\"],[0.1111111111111111,\"#46039f\"],[0.2222222222222222,\"#7201a8\"],[0.3333333333333333,\"#9c179e\"],[0.4444444444444444,\"#bd3786\"],[0.5555555555555556,\"#d8576b\"],[0.6666666666666666,\"#ed7953\"],[0.7777777777777778,\"#fb9f3a\"],[0.8888888888888888,\"#fdca26\"],[1.0,\"#f0f921\"]],\"diverging\":[[0,\"#8e0152\"],[0.1,\"#c51b7d\"],[0.2,\"#de77ae\"],[0.3,\"#f1b6da\"],[0.4,\"#fde0ef\"],[0.5,\"#f7f7f7\"],[0.6,\"#e6f5d0\"],[0.7,\"#b8e186\"],[0.8,\"#7fbc41\"],[0.9,\"#4d9221\"],[1,\"#276419\"]]},\"xaxis\":{\"gridcolor\":\"white\",\"linecolor\":\"white\",\"ticks\":\"\",\"title\":{\"standoff\":15},\"zerolinecolor\":\"white\",\"automargin\":true,\"zerolinewidth\":2},\"yaxis\":{\"gridcolor\":\"white\",\"linecolor\":\"white\",\"ticks\":\"\",\"title\":{\"standoff\":15},\"zerolinecolor\":\"white\",\"automargin\":true,\"zerolinewidth\":2},\"scene\":{\"xaxis\":{\"backgroundcolor\":\"#E5ECF6\",\"gridcolor\":\"white\",\"linecolor\":\"white\",\"showbackground\":true,\"ticks\":\"\",\"zerolinecolor\":\"white\",\"gridwidth\":2},\"yaxis\":{\"backgroundcolor\":\"#E5ECF6\",\"gridcolor\":\"white\",\"linecolor\":\"white\",\"showbackground\":true,\"ticks\":\"\",\"zerolinecolor\":\"white\",\"gridwidth\":2},\"zaxis\":{\"backgroundcolor\":\"#E5ECF6\",\"gridcolor\":\"white\",\"linecolor\":\"white\",\"showbackground\":true,\"ticks\":\"\",\"zerolinecolor\":\"white\",\"gridwidth\":2}},\"shapedefaults\":{\"line\":{\"color\":\"#2a3f5f\"}},\"annotationdefaults\":{\"arrowcolor\":\"#2a3f5f\",\"arrowhead\":0,\"arrowwidth\":1},\"geo\":{\"bgcolor\":\"white\",\"landcolor\":\"#E5ECF6\",\"subunitcolor\":\"white\",\"showland\":true,\"showlakes\":true,\"lakecolor\":\"white\"},\"title\":{\"x\":0.05},\"mapbox\":{\"style\":\"light\"}}},\"xaxis\":{\"anchor\":\"y\",\"domain\":[0.0,1.0],\"title\":{\"text\":\"borough\"}},\"yaxis\":{\"anchor\":\"x\",\"domain\":[0.0,1.0],\"title\":{\"text\":\"count\"}},\"legend\":{\"tracegroupgap\":0},\"margin\":{\"t\":60},\"barmode\":\"relative\"},                        {\"responsive\": true}                    ).then(function(){\n",
       "                            \n",
       "var gd = document.getElementById('87703046-2e7f-4d06-8278-e82616a04585');\n",
       "var x = new MutationObserver(function (mutations, observer) {{\n",
       "        var display = window.getComputedStyle(gd).display;\n",
       "        if (!display || display === 'none') {{\n",
       "            console.log([gd, 'removed!']);\n",
       "            Plotly.purge(gd);\n",
       "            observer.disconnect();\n",
       "        }}\n",
       "}});\n",
       "\n",
       "// Listen for the removal of the full notebook cells\n",
       "var notebookContainer = gd.closest('#notebook-container');\n",
       "if (notebookContainer) {{\n",
       "    x.observe(notebookContainer, {childList: true});\n",
       "}}\n",
       "\n",
       "// Listen for the clearing of the current output cell\n",
       "var outputEl = gd.closest('.output');\n",
       "if (outputEl) {{\n",
       "    x.observe(outputEl, {childList: true});\n",
       "}}\n",
       "\n",
       "                        })                };                });            </script>        </div>"
      ]
     },
     "metadata": {},
     "output_type": "display_data"
    }
   ],
   "source": [
    "fig.show()"
   ]
  },
  {
   "cell_type": "code",
   "execution_count": null,
   "id": "37d30c4d-8df8-4c4c-b13c-942f9892f535",
   "metadata": {},
   "outputs": [],
   "source": []
  }
 ],
 "metadata": {
  "kernelspec": {
   "display_name": "Python 3 (ipykernel)",
   "language": "python",
   "name": "python3"
  },
  "language_info": {
   "codemirror_mode": {
    "name": "ipython",
    "version": 3
   },
   "file_extension": ".py",
   "mimetype": "text/x-python",
   "name": "python",
   "nbconvert_exporter": "python",
   "pygments_lexer": "ipython3",
   "version": "3.11.1"
  }
 },
 "nbformat": 4,
 "nbformat_minor": 5
}
