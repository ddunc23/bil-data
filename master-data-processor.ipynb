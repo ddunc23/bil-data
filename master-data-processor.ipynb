{
 "cells": [
  {
   "cell_type": "code",
   "execution_count": 5,
   "id": "7b077326-c69f-47c1-943a-02139119315b",
   "metadata": {
    "tags": []
   },
   "outputs": [],
   "source": [
    "import csv\n",
    "import re\n",
    "\n",
    "from geojson import Point, Feature, FeatureCollection, dump, MultiPoint"
   ]
  },
  {
   "cell_type": "markdown",
   "id": "ed029a46-7ff8-4234-bd4c-7c0c8dc7ce5d",
   "metadata": {},
   "source": [
    "## Process the records into GeoJson"
   ]
  },
  {
   "cell_type": "code",
   "execution_count": 6,
   "id": "8c503732-f2a5-462c-8ec4-41bccb579241",
   "metadata": {
    "tags": []
   },
   "outputs": [],
   "source": [
    "records = []\n",
    "\n",
    "with open('DATA MASTER-dh-copy-v8-2024-07-17.csv', encoding='utf-8-sig') as file:\n",
    "    reader = csv.DictReader(file)\n",
    "    for row in reader:\n",
    "        records.append(row)\n",
    "    file.close()    "
   ]
  },
  {
   "cell_type": "code",
   "execution_count": 7,
   "id": "5b2d4b38-5aaf-4ef7-b96c-12e0525684b9",
   "metadata": {
    "tags": []
   },
   "outputs": [
    {
     "data": {
      "text/plain": [
       "['Theme (KEF Themes)',\n",
       " 'Title',\n",
       " 'Memory Mapper Title (keywords to identify the project) (should include the research content',\n",
       " 'Project Location - In London',\n",
       " 'Date',\n",
       " 'Link',\n",
       " 'Identification- DOI/URL/ISBN/Reference no.',\n",
       " 'Authors',\n",
       " 'London Authors',\n",
       " 'Other Author (National+International)',\n",
       " 'Department',\n",
       " 'Abstract',\n",
       " 'Partners',\n",
       " 'Partnership Location - In London',\n",
       " 'Partnership',\n",
       " 'Policy Sources////Citations ( from Overton)',\n",
       " 'Policy source subcategory',\n",
       " 'Partnership 1',\n",
       " 'Partnership 2',\n",
       " 'Partnership 3',\n",
       " 'Partnership 4',\n",
       " 'Filter 2 (Themes)',\n",
       " 'Funder 1',\n",
       " 'Funder 2',\n",
       " 'Funder 3',\n",
       " 'Source',\n",
       " 'Type of Work (phD/masters)',\n",
       " 'Column',\n",
       " 'Column2',\n",
       " 'Column3',\n",
       " 'Column4',\n",
       " 'Column5',\n",
       " 'Column6',\n",
       " 'Column7']"
      ]
     },
     "execution_count": 7,
     "metadata": {},
     "output_type": "execute_result"
    }
   ],
   "source": [
    "list(records[0].keys())"
   ]
  },
  {
   "cell_type": "code",
   "execution_count": 18,
   "id": "a159cba4-fa38-48ab-a028-fd852b9e102d",
   "metadata": {
    "tags": []
   },
   "outputs": [],
   "source": [
    "features = []\n",
    "\n",
    "for row in records:\n",
    "    points = []\n",
    "    clean = ''\n",
    "    for string in row['Project Location - In London'].split('\\n'):\n",
    "        res = re.search(r'\\((-\\d+|\\d+)\\d+.\\d+,(-\\d+|\\d+).\\d+\\)', string)\n",
    "        if (res):\n",
    "            clean = re.sub(r'\\((-\\d+|\\d+)\\d+.\\d+,(-\\d+|\\d+).\\d+\\)', '', string)\n",
    "            coord_string = re.sub(r'\\(|\\)', '', res[0])\n",
    "            coords = tuple([float(i) for i in coord_string.split(',')])\n",
    "            p = Point((coords[1], coords[0]))\n",
    "            points.append(p)\n",
    "    geom = MultiPoint(points)\n",
    "    \n",
    "    #partner_types = [row['Partnership 1'], row['Partnership 2'], row['Partnership 3'], row['Partnership 4']]\n",
    "    #funders = [row['Funder 1'], row['Funder 2'], row['Funder 3']]\n",
    "    \n",
    "    \n",
    "    f = Feature(geometry=geom, properties={\n",
    "            'name': clean.strip(), \n",
    "            'full_title': row['Title'].split(':')[0],\n",
    "            'short_title': row['Memory Mapper Title (keywords to identify the project) (should include the research content'],\n",
    "            'kef_theme': row['Theme (KEF Themes)'],\n",
    "            'subject_area': row['Filter 2 (Themes)'],\n",
    "            'department': row['Department'],\n",
    "            'abstract': row['Abstract'],\n",
    "            'partners': row['Partners'],\n",
    "            'primary_funder': row['Funder 1'],\n",
    "            'primary_partnership_type': row['Partnership 1'],\n",
    "            'data_source': row['Source'],\n",
    "            'authors': row['Authors']\n",
    "        },\n",
    "    )\n",
    "    features.append(f)"
   ]
  },
  {
   "cell_type": "code",
   "execution_count": 19,
   "id": "44435cdd-0f90-430a-b604-df6d080cd370",
   "metadata": {
    "tags": []
   },
   "outputs": [],
   "source": [
    "collection = FeatureCollection(features)"
   ]
  },
  {
   "cell_type": "code",
   "execution_count": 20,
   "id": "7bb1e6ca-c014-4484-923d-c671aa4b32f0",
   "metadata": {
    "tags": []
   },
   "outputs": [],
   "source": [
    "with open('./data-master-research-locations-v8-2024-07-17.geojson', 'w') as file:\n",
    "    dump(collection, file)\n",
    "    file.close()"
   ]
  },
  {
   "cell_type": "markdown",
   "id": "a926ac50-cce2-43bf-b33b-5aa1c62c1803",
   "metadata": {},
   "source": [
    "## Create a graph..."
   ]
  },
  {
   "cell_type": "code",
   "execution_count": 21,
   "id": "62858f76-ace2-4121-9955-a94ca2450b70",
   "metadata": {
    "tags": []
   },
   "outputs": [],
   "source": [
    "import networkx as nx"
   ]
  },
  {
   "cell_type": "code",
   "execution_count": 28,
   "id": "b236cbc0-24ec-4945-b7e7-131a23013c3a",
   "metadata": {
    "tags": []
   },
   "outputs": [],
   "source": [
    "g = nx.Graph()\n",
    "\n",
    "for r in records:\n",
    "    if r['Department'] == '':\n",
    "        continue\n",
    "    \n",
    "    department = r['Department']\n",
    "    \n",
    "    if department not in g.nodes():\n",
    "        g.add_node(department, node_type='department')\n",
    "    \n",
    "    p_types = [r['Partnership 1'], r['Partnership 2'], r['Partnership 3'], r['Partnership 4']]\n",
    "    funders = [r['Funder 1'], r['Funder 2'], r['Funder 3']]\n",
    "    \n",
    "    #for p in p_types:\n",
    "    #    if p == '':\n",
    "    #        continue\n",
    "    #    if p not in g.nodes():\n",
    "    #        g.add_node(p, node_type='partnership')\n",
    "    #    g.add_edge(department, p)\n",
    "    \n",
    "    for f in funders:\n",
    "        if f == '':\n",
    "            continue\n",
    "        if f not in g.nodes():\n",
    "            g.add_node(f, node_type='funder')\n",
    "        g.add_edge(department, f)\n",
    "        \n",
    "    #if r['Filter 2 (Themes)'] != '':\n",
    "    #    subject = r['Filter 2 (Themes)']\n",
    "    #    if subject not in g.nodes():\n",
    "    #        g.add_node(subject, node_type='research area')\n",
    "    #    g.add_edge(department, subject)"
   ]
  },
  {
   "cell_type": "code",
   "execution_count": 29,
   "id": "178dfa6a-a894-45f0-aa98-efcbe624188c",
   "metadata": {
    "tags": []
   },
   "outputs": [],
   "source": [
    "nx.write_gexf(g, 'departments-funders-network-v1-2024-07-11.gexf')"
   ]
  },
  {
   "cell_type": "code",
   "execution_count": null,
   "id": "9956fb98-9eda-428e-aeba-e030900d1c4b",
   "metadata": {},
   "outputs": [],
   "source": [
    "# Again, but source, target, value csv"
   ]
  },
  {
   "cell_type": "code",
   "execution_count": 39,
   "id": "75ae6ce9-a577-4526-82fe-bd7ae91864f7",
   "metadata": {
    "tags": []
   },
   "outputs": [],
   "source": [
    "edges = []\n",
    "points = []\n",
    "\n",
    "for r in records:\n",
    "    if r['Department'] == '':\n",
    "        continue\n",
    "    \n",
    "    department = r['Department']\n",
    "    \n",
    "    point = {'ID': department, 'Group': 'A'}\n",
    "    \n",
    "    if point not in points:\n",
    "        points.append(point)\n",
    "    \n",
    "    p_types = [r['Partnership 1'], r['Partnership 2'], r['Partnership 3'], r['Partnership 4']]\n",
    "    \n",
    "    for p in p_types:\n",
    "        \n",
    "        if p == '':\n",
    "            continue\n",
    "\n",
    "        source_target_pair = [x for x in edges if x['source'] == department and x['target'] == p]\n",
    "\n",
    "        if len(source_target_pair):\n",
    "            source_target_pair[0]['value'] += 1\n",
    "        else:\n",
    "            edge = {'source': department, 'target': p, 'value': 1}\n",
    "            edges.append(edge)\n",
    "\n",
    "        point = {'ID': p, 'Group': 'B'}\n",
    "\n",
    "        if point not in points:\n",
    "            points.append(point)\n",
    "            \n",
    "            "
   ]
  },
  {
   "cell_type": "code",
   "execution_count": 40,
   "id": "0a0e4e1b-4cd9-48bd-af9f-e73e00083aab",
   "metadata": {
    "tags": []
   },
   "outputs": [],
   "source": [
    "with open('department-to-partnership-types-edges-v1-2024-07-11.csv', 'w') as file:\n",
    "    writer = csv.DictWriter(file, fieldnames=list(edges[0].keys()))\n",
    "    writer.writeheader()\n",
    "    for row in edges:\n",
    "        writer.writerow(row)\n",
    "    file.close()"
   ]
  },
  {
   "cell_type": "code",
   "execution_count": 41,
   "id": "57e6a93f-65f3-41f9-a3f0-3f4ecc4bb378",
   "metadata": {
    "tags": []
   },
   "outputs": [],
   "source": [
    "with open('department-to-partnership-types-points-v1-2024-07-11.csv', 'w') as file:\n",
    "    writer = csv.DictWriter(file, fieldnames=list(points[0].keys()))\n",
    "    writer.writeheader()\n",
    "    for row in points:\n",
    "        writer.writerow(row)\n",
    "    file.close()"
   ]
  },
  {
   "cell_type": "code",
   "execution_count": null,
   "id": "ce61fb81-c833-4116-837d-4bde835b3732",
   "metadata": {},
   "outputs": [],
   "source": []
  }
 ],
 "metadata": {
  "kernelspec": {
   "display_name": "Python 3 (ipykernel)",
   "language": "python",
   "name": "python3"
  },
  "language_info": {
   "codemirror_mode": {
    "name": "ipython",
    "version": 3
   },
   "file_extension": ".py",
   "mimetype": "text/x-python",
   "name": "python",
   "nbconvert_exporter": "python",
   "pygments_lexer": "ipython3",
   "version": "3.11.1"
  }
 },
 "nbformat": 4,
 "nbformat_minor": 5
}
