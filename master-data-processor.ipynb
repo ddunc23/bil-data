{
 "cells": [
  {
   "cell_type": "code",
   "execution_count": 10,
   "id": "7b077326-c69f-47c1-943a-02139119315b",
   "metadata": {
    "tags": []
   },
   "outputs": [],
   "source": [
    "import csv\n",
    "import re\n",
    "\n",
    "from geojson import Point, Feature, FeatureCollection, dump, MultiPoint"
   ]
  },
  {
   "cell_type": "markdown",
   "id": "ed029a46-7ff8-4234-bd4c-7c0c8dc7ce5d",
   "metadata": {},
   "source": [
    "## Process the records into GeoJson"
   ]
  },
  {
   "cell_type": "code",
   "execution_count": 11,
   "id": "8c503732-f2a5-462c-8ec4-41bccb579241",
   "metadata": {
    "tags": []
   },
   "outputs": [],
   "source": [
    "records = []\n",
    "\n",
    "with open('DATA MASTER-dh-copy-v4-2024-07-04.csv', encoding='utf-8-sig') as file:\n",
    "    reader = csv.DictReader(file)\n",
    "    for row in reader:\n",
    "        records.append(row)\n",
    "    file.close()    "
   ]
  },
  {
   "cell_type": "code",
   "execution_count": 12,
   "id": "5b2d4b38-5aaf-4ef7-b96c-12e0525684b9",
   "metadata": {
    "tags": []
   },
   "outputs": [
    {
     "data": {
      "text/plain": [
       "['Theme (KEF Themes)',\n",
       " 'Title',\n",
       " 'Project Location - In London',\n",
       " 'Date',\n",
       " 'Identification- DOI/URL/ISBN/Reference no.',\n",
       " 'Author + Location (Lat,Long)',\n",
       " 'Department',\n",
       " 'Abstract',\n",
       " 'Partners',\n",
       " 'Partner Type',\n",
       " 'Partnership Location - In London',\n",
       " 'Partnership type',\n",
       " 'Policy Sources////Citations ( from Overton)',\n",
       " 'Policy source subcategory',\n",
       " 'Filter (Impact Themes from Impact casa)',\n",
       " 'Filter 2 (Themes)',\n",
       " 'Funder',\n",
       " 'Source']"
      ]
     },
     "execution_count": 12,
     "metadata": {},
     "output_type": "execute_result"
    }
   ],
   "source": [
    "list(records[0].keys())"
   ]
  },
  {
   "cell_type": "code",
   "execution_count": 13,
   "id": "a159cba4-fa38-48ab-a028-fd852b9e102d",
   "metadata": {
    "tags": []
   },
   "outputs": [],
   "source": [
    "features = []\n",
    "\n",
    "for row in records:\n",
    "    points = []\n",
    "    for string in row['Project Location - In London'].split('\\n'):\n",
    "        res = re.search(r'\\((-\\d+|\\d+)\\d+.\\d+,(-\\d+|\\d+).\\d+\\)', string)\n",
    "        if (res):\n",
    "            clean = re.sub(r'\\((-\\d+|\\d+)\\d+.\\d+,(-\\d+|\\d+).\\d+\\)', '', string)\n",
    "            coord_string = re.sub(r'\\(|\\)', '', res[0])\n",
    "            coords = tuple([float(i) for i in coord_string.split(',')])\n",
    "            p = Point((coords[1], coords[0]))\n",
    "            points.append(p)\n",
    "    geom = MultiPoint(points)\n",
    "    f = Feature(geometry=geom, properties={\n",
    "            'name': clean.strip(), \n",
    "            'title': row['Title'].split(':')[0],\n",
    "            'kef_theme': row['Theme (KEF Themes)'],\n",
    "            'subject_area': row['Filter 2 (Themes)'],\n",
    "            'output_type': 'research',\n",
    "            'department': row['Department'],\n",
    "            'abstract': row['Abstract'],\n",
    "            'partners': row['Partners'],\n",
    "        },\n",
    "    )\n",
    "    features.append(f)"
   ]
  },
  {
   "cell_type": "code",
   "execution_count": 14,
   "id": "44435cdd-0f90-430a-b604-df6d080cd370",
   "metadata": {
    "tags": []
   },
   "outputs": [],
   "source": [
    "collection = FeatureCollection(features)"
   ]
  },
  {
   "cell_type": "code",
   "execution_count": 15,
   "id": "7bb1e6ca-c014-4484-923d-c671aa4b32f0",
   "metadata": {
    "tags": []
   },
   "outputs": [],
   "source": [
    "with open('./data-master-research-locations-v5-2024-07-04.geojson', 'w') as file:\n",
    "    dump(collection, file)\n",
    "    file.close()"
   ]
  },
  {
   "cell_type": "markdown",
   "id": "a926ac50-cce2-43bf-b33b-5aa1c62c1803",
   "metadata": {},
   "source": [
    "## Create a graph..."
   ]
  },
  {
   "cell_type": "code",
   "execution_count": 1,
   "id": "62858f76-ace2-4121-9955-a94ca2450b70",
   "metadata": {
    "tags": []
   },
   "outputs": [],
   "source": [
    "import networkx as nx"
   ]
  },
  {
   "cell_type": "code",
   "execution_count": 7,
   "id": "b236cbc0-24ec-4945-b7e7-131a23013c3a",
   "metadata": {
    "tags": []
   },
   "outputs": [],
   "source": [
    "g = nx.Graph()\n",
    "\n",
    "for r in records:\n",
    "    g.add_edge(r['Department'], r['Partnership type'])"
   ]
  },
  {
   "cell_type": "code",
   "execution_count": 9,
   "id": "178dfa6a-a894-45f0-aa98-efcbe624188c",
   "metadata": {
    "tags": []
   },
   "outputs": [],
   "source": [
    "nx.write_gexf(g, 'departments-and-partnerships-network-v1-2024-07-03.gexf')"
   ]
  },
  {
   "cell_type": "code",
   "execution_count": null,
   "id": "9956fb98-9eda-428e-aeba-e030900d1c4b",
   "metadata": {},
   "outputs": [],
   "source": []
  }
 ],
 "metadata": {
  "kernelspec": {
   "display_name": "Python 3 (ipykernel)",
   "language": "python",
   "name": "python3"
  },
  "language_info": {
   "codemirror_mode": {
    "name": "ipython",
    "version": 3
   },
   "file_extension": ".py",
   "mimetype": "text/x-python",
   "name": "python",
   "nbconvert_exporter": "python",
   "pygments_lexer": "ipython3",
   "version": "3.11.1"
  }
 },
 "nbformat": 4,
 "nbformat_minor": 5
}
